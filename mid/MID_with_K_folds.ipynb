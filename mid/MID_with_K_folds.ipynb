{
 "cells": [
  {
   "cell_type": "code",
   "execution_count": 125,
   "id": "65beb6cb",
   "metadata": {},
   "outputs": [
    {
     "data": {
      "text/html": [
       "<div>\n",
       "<style scoped>\n",
       "    .dataframe tbody tr th:only-of-type {\n",
       "        vertical-align: middle;\n",
       "    }\n",
       "\n",
       "    .dataframe tbody tr th {\n",
       "        vertical-align: top;\n",
       "    }\n",
       "\n",
       "    .dataframe thead th {\n",
       "        text-align: right;\n",
       "    }\n",
       "</style>\n",
       "<table border=\"1\" class=\"dataframe\">\n",
       "  <thead>\n",
       "    <tr style=\"text-align: right;\">\n",
       "      <th></th>\n",
       "      <th>Performance</th>\n",
       "      <th>Gender</th>\n",
       "      <th>Caste</th>\n",
       "      <th>coaching</th>\n",
       "      <th>time</th>\n",
       "      <th>Class_ten_education</th>\n",
       "      <th>twelve_education</th>\n",
       "      <th>medium</th>\n",
       "      <th>Class_ X_Percentage</th>\n",
       "      <th>Class_XII_Percentage</th>\n",
       "      <th>Father_occupation</th>\n",
       "      <th>Mother_occupation</th>\n",
       "    </tr>\n",
       "  </thead>\n",
       "  <tbody>\n",
       "    <tr>\n",
       "      <th>count</th>\n",
       "      <td>666</td>\n",
       "      <td>666</td>\n",
       "      <td>666</td>\n",
       "      <td>666</td>\n",
       "      <td>666</td>\n",
       "      <td>666</td>\n",
       "      <td>666</td>\n",
       "      <td>666</td>\n",
       "      <td>666</td>\n",
       "      <td>666</td>\n",
       "      <td>666</td>\n",
       "      <td>666</td>\n",
       "    </tr>\n",
       "    <tr>\n",
       "      <th>unique</th>\n",
       "      <td>4</td>\n",
       "      <td>2</td>\n",
       "      <td>4</td>\n",
       "      <td>3</td>\n",
       "      <td>6</td>\n",
       "      <td>3</td>\n",
       "      <td>3</td>\n",
       "      <td>3</td>\n",
       "      <td>4</td>\n",
       "      <td>4</td>\n",
       "      <td>8</td>\n",
       "      <td>9</td>\n",
       "    </tr>\n",
       "    <tr>\n",
       "      <th>top</th>\n",
       "      <td>b'Good'</td>\n",
       "      <td>b'male'</td>\n",
       "      <td>b'General'</td>\n",
       "      <td>b'WA'</td>\n",
       "      <td>b'TWO'</td>\n",
       "      <td>b'SEBA'</td>\n",
       "      <td>b'AHSEC'</td>\n",
       "      <td>b'ENGLISH'</td>\n",
       "      <td>b'Excellent'</td>\n",
       "      <td>b'Excellent'</td>\n",
       "      <td>b'OTHERS'</td>\n",
       "      <td>b'HOUSE_WIFE'</td>\n",
       "    </tr>\n",
       "    <tr>\n",
       "      <th>freq</th>\n",
       "      <td>210</td>\n",
       "      <td>355</td>\n",
       "      <td>329</td>\n",
       "      <td>449</td>\n",
       "      <td>368</td>\n",
       "      <td>396</td>\n",
       "      <td>368</td>\n",
       "      <td>536</td>\n",
       "      <td>511</td>\n",
       "      <td>398</td>\n",
       "      <td>277</td>\n",
       "      <td>442</td>\n",
       "    </tr>\n",
       "  </tbody>\n",
       "</table>\n",
       "</div>"
      ],
      "text/plain": [
       "       Performance   Gender       Caste coaching    time Class_ten_education  \\\n",
       "count          666      666         666      666     666                 666   \n",
       "unique           4        2           4        3       6                   3   \n",
       "top        b'Good'  b'male'  b'General'    b'WA'  b'TWO'             b'SEBA'   \n",
       "freq           210      355         329      449     368                 396   \n",
       "\n",
       "       twelve_education      medium Class_ X_Percentage Class_XII_Percentage  \\\n",
       "count               666         666                 666                  666   \n",
       "unique                3           3                   4                    4   \n",
       "top            b'AHSEC'  b'ENGLISH'        b'Excellent'         b'Excellent'   \n",
       "freq                368         536                 511                  398   \n",
       "\n",
       "       Father_occupation Mother_occupation  \n",
       "count                666               666  \n",
       "unique                 8                 9  \n",
       "top            b'OTHERS'     b'HOUSE_WIFE'  \n",
       "freq                 277               442  "
      ]
     },
     "execution_count": 125,
     "metadata": {},
     "output_type": "execute_result"
    }
   ],
   "source": [
    "from scipy.io import arff\n",
    "import pandas as pd\n",
    "from sklearn.model_selection import train_test_split\n",
    "\n",
    "data = arff.loadarff('CEE_DATA.arff')\n",
    "df = pd.DataFrame(data[0])\n",
    "\n",
    "df.describe()\n"
   ]
  },
  {
   "cell_type": "code",
   "execution_count": 126,
   "id": "bdd42445",
   "metadata": {},
   "outputs": [
    {
     "data": {
      "text/html": [
       "<div>\n",
       "<style scoped>\n",
       "    .dataframe tbody tr th:only-of-type {\n",
       "        vertical-align: middle;\n",
       "    }\n",
       "\n",
       "    .dataframe tbody tr th {\n",
       "        vertical-align: top;\n",
       "    }\n",
       "\n",
       "    .dataframe thead th {\n",
       "        text-align: right;\n",
       "    }\n",
       "</style>\n",
       "<table border=\"1\" class=\"dataframe\">\n",
       "  <thead>\n",
       "    <tr style=\"text-align: right;\">\n",
       "      <th></th>\n",
       "      <th>Performance</th>\n",
       "      <th>Gender</th>\n",
       "      <th>Caste</th>\n",
       "      <th>coaching</th>\n",
       "      <th>time</th>\n",
       "      <th>Class_ten_education</th>\n",
       "      <th>twelve_education</th>\n",
       "      <th>medium</th>\n",
       "      <th>Class_ X_Percentage</th>\n",
       "      <th>Class_XII_Percentage</th>\n",
       "      <th>Father_occupation</th>\n",
       "      <th>Mother_occupation</th>\n",
       "    </tr>\n",
       "  </thead>\n",
       "  <tbody>\n",
       "    <tr>\n",
       "      <th>0</th>\n",
       "      <td>b'Excellent'</td>\n",
       "      <td>b'male'</td>\n",
       "      <td>b'General'</td>\n",
       "      <td>b'NO'</td>\n",
       "      <td>b'ONE'</td>\n",
       "      <td>b'SEBA'</td>\n",
       "      <td>b'AHSEC'</td>\n",
       "      <td>b'ENGLISH'</td>\n",
       "      <td>b'Excellent'</td>\n",
       "      <td>b'Excellent'</td>\n",
       "      <td>b'DOCTOR'</td>\n",
       "      <td>b'OTHERS'</td>\n",
       "    </tr>\n",
       "    <tr>\n",
       "      <th>1</th>\n",
       "      <td>b'Excellent'</td>\n",
       "      <td>b'male'</td>\n",
       "      <td>b'OBC'</td>\n",
       "      <td>b'WA'</td>\n",
       "      <td>b'TWO'</td>\n",
       "      <td>b'SEBA'</td>\n",
       "      <td>b'AHSEC'</td>\n",
       "      <td>b'OTHERS'</td>\n",
       "      <td>b'Excellent'</td>\n",
       "      <td>b'Excellent'</td>\n",
       "      <td>b'SCHOOL_TEACHER'</td>\n",
       "      <td>b'HOUSE_WIFE'</td>\n",
       "    </tr>\n",
       "    <tr>\n",
       "      <th>2</th>\n",
       "      <td>b'Excellent'</td>\n",
       "      <td>b'male'</td>\n",
       "      <td>b'OBC'</td>\n",
       "      <td>b'OA'</td>\n",
       "      <td>b'TWO'</td>\n",
       "      <td>b'OTHERS'</td>\n",
       "      <td>b'CBSE'</td>\n",
       "      <td>b'ENGLISH'</td>\n",
       "      <td>b'Excellent'</td>\n",
       "      <td>b'Excellent'</td>\n",
       "      <td>b'BUSINESS'</td>\n",
       "      <td>b'HOUSE_WIFE'</td>\n",
       "    </tr>\n",
       "    <tr>\n",
       "      <th>3</th>\n",
       "      <td>b'Excellent'</td>\n",
       "      <td>b'male'</td>\n",
       "      <td>b'General'</td>\n",
       "      <td>b'WA'</td>\n",
       "      <td>b'ONE'</td>\n",
       "      <td>b'SEBA'</td>\n",
       "      <td>b'AHSEC'</td>\n",
       "      <td>b'OTHERS'</td>\n",
       "      <td>b'Excellent'</td>\n",
       "      <td>b'Excellent'</td>\n",
       "      <td>b'SCHOOL_TEACHER'</td>\n",
       "      <td>b'SCHOOL_TEACHER'</td>\n",
       "    </tr>\n",
       "    <tr>\n",
       "      <th>4</th>\n",
       "      <td>b'Excellent'</td>\n",
       "      <td>b'male'</td>\n",
       "      <td>b'General'</td>\n",
       "      <td>b'OA'</td>\n",
       "      <td>b'TWO'</td>\n",
       "      <td>b'SEBA'</td>\n",
       "      <td>b'CBSE'</td>\n",
       "      <td>b'ENGLISH'</td>\n",
       "      <td>b'Excellent'</td>\n",
       "      <td>b'Excellent'</td>\n",
       "      <td>b'COLLEGE_TEACHER'</td>\n",
       "      <td>b'HOUSE_WIFE'</td>\n",
       "    </tr>\n",
       "    <tr>\n",
       "      <th>...</th>\n",
       "      <td>...</td>\n",
       "      <td>...</td>\n",
       "      <td>...</td>\n",
       "      <td>...</td>\n",
       "      <td>...</td>\n",
       "      <td>...</td>\n",
       "      <td>...</td>\n",
       "      <td>...</td>\n",
       "      <td>...</td>\n",
       "      <td>...</td>\n",
       "      <td>...</td>\n",
       "      <td>...</td>\n",
       "    </tr>\n",
       "    <tr>\n",
       "      <th>661</th>\n",
       "      <td>b'Average'</td>\n",
       "      <td>b'female'</td>\n",
       "      <td>b'ST'</td>\n",
       "      <td>b'WA'</td>\n",
       "      <td>b'ONE'</td>\n",
       "      <td>b'SEBA'</td>\n",
       "      <td>b'AHSEC'</td>\n",
       "      <td>b'ENGLISH'</td>\n",
       "      <td>b'Good'</td>\n",
       "      <td>b'Vg'</td>\n",
       "      <td>b'OTHERS'</td>\n",
       "      <td>b'HOUSE_WIFE'</td>\n",
       "    </tr>\n",
       "    <tr>\n",
       "      <th>662</th>\n",
       "      <td>b'Average'</td>\n",
       "      <td>b'male'</td>\n",
       "      <td>b'ST'</td>\n",
       "      <td>b'WA'</td>\n",
       "      <td>b'THREE'</td>\n",
       "      <td>b'SEBA'</td>\n",
       "      <td>b'AHSEC'</td>\n",
       "      <td>b'ENGLISH'</td>\n",
       "      <td>b'Vg'</td>\n",
       "      <td>b'Good'</td>\n",
       "      <td>b'CULTIVATOR'</td>\n",
       "      <td>b'HOUSE_WIFE'</td>\n",
       "    </tr>\n",
       "    <tr>\n",
       "      <th>663</th>\n",
       "      <td>b'Average'</td>\n",
       "      <td>b'male'</td>\n",
       "      <td>b'ST'</td>\n",
       "      <td>b'WA'</td>\n",
       "      <td>b'TWO'</td>\n",
       "      <td>b'SEBA'</td>\n",
       "      <td>b'CBSE'</td>\n",
       "      <td>b'ENGLISH'</td>\n",
       "      <td>b'Good'</td>\n",
       "      <td>b'Vg'</td>\n",
       "      <td>b'OTHERS'</td>\n",
       "      <td>b'SCHOOL_TEACHER'</td>\n",
       "    </tr>\n",
       "    <tr>\n",
       "      <th>664</th>\n",
       "      <td>b'Average'</td>\n",
       "      <td>b'male'</td>\n",
       "      <td>b'ST'</td>\n",
       "      <td>b'WA'</td>\n",
       "      <td>b'THREE'</td>\n",
       "      <td>b'SEBA'</td>\n",
       "      <td>b'AHSEC'</td>\n",
       "      <td>b'ENGLISH'</td>\n",
       "      <td>b'Good'</td>\n",
       "      <td>b'Good'</td>\n",
       "      <td>b'SCHOOL_TEACHER'</td>\n",
       "      <td>b'HOUSE_WIFE'</td>\n",
       "    </tr>\n",
       "    <tr>\n",
       "      <th>665</th>\n",
       "      <td>b'Average'</td>\n",
       "      <td>b'female'</td>\n",
       "      <td>b'ST'</td>\n",
       "      <td>b'NO'</td>\n",
       "      <td>b'ONE'</td>\n",
       "      <td>b'SEBA'</td>\n",
       "      <td>b'CBSE'</td>\n",
       "      <td>b'ENGLISH'</td>\n",
       "      <td>b'Vg'</td>\n",
       "      <td>b'Good'</td>\n",
       "      <td>b'BUSINESS'</td>\n",
       "      <td>b'OTHERS'</td>\n",
       "    </tr>\n",
       "  </tbody>\n",
       "</table>\n",
       "<p>666 rows × 12 columns</p>\n",
       "</div>"
      ],
      "text/plain": [
       "      Performance     Gender       Caste coaching      time  \\\n",
       "0    b'Excellent'    b'male'  b'General'    b'NO'    b'ONE'   \n",
       "1    b'Excellent'    b'male'      b'OBC'    b'WA'    b'TWO'   \n",
       "2    b'Excellent'    b'male'      b'OBC'    b'OA'    b'TWO'   \n",
       "3    b'Excellent'    b'male'  b'General'    b'WA'    b'ONE'   \n",
       "4    b'Excellent'    b'male'  b'General'    b'OA'    b'TWO'   \n",
       "..            ...        ...         ...      ...       ...   \n",
       "661    b'Average'  b'female'       b'ST'    b'WA'    b'ONE'   \n",
       "662    b'Average'    b'male'       b'ST'    b'WA'  b'THREE'   \n",
       "663    b'Average'    b'male'       b'ST'    b'WA'    b'TWO'   \n",
       "664    b'Average'    b'male'       b'ST'    b'WA'  b'THREE'   \n",
       "665    b'Average'  b'female'       b'ST'    b'NO'    b'ONE'   \n",
       "\n",
       "    Class_ten_education twelve_education      medium Class_ X_Percentage  \\\n",
       "0               b'SEBA'         b'AHSEC'  b'ENGLISH'        b'Excellent'   \n",
       "1               b'SEBA'         b'AHSEC'   b'OTHERS'        b'Excellent'   \n",
       "2             b'OTHERS'          b'CBSE'  b'ENGLISH'        b'Excellent'   \n",
       "3               b'SEBA'         b'AHSEC'   b'OTHERS'        b'Excellent'   \n",
       "4               b'SEBA'          b'CBSE'  b'ENGLISH'        b'Excellent'   \n",
       "..                  ...              ...         ...                 ...   \n",
       "661             b'SEBA'         b'AHSEC'  b'ENGLISH'             b'Good'   \n",
       "662             b'SEBA'         b'AHSEC'  b'ENGLISH'               b'Vg'   \n",
       "663             b'SEBA'          b'CBSE'  b'ENGLISH'             b'Good'   \n",
       "664             b'SEBA'         b'AHSEC'  b'ENGLISH'             b'Good'   \n",
       "665             b'SEBA'          b'CBSE'  b'ENGLISH'               b'Vg'   \n",
       "\n",
       "    Class_XII_Percentage   Father_occupation  Mother_occupation  \n",
       "0           b'Excellent'           b'DOCTOR'          b'OTHERS'  \n",
       "1           b'Excellent'   b'SCHOOL_TEACHER'      b'HOUSE_WIFE'  \n",
       "2           b'Excellent'         b'BUSINESS'      b'HOUSE_WIFE'  \n",
       "3           b'Excellent'   b'SCHOOL_TEACHER'  b'SCHOOL_TEACHER'  \n",
       "4           b'Excellent'  b'COLLEGE_TEACHER'      b'HOUSE_WIFE'  \n",
       "..                   ...                 ...                ...  \n",
       "661                b'Vg'           b'OTHERS'      b'HOUSE_WIFE'  \n",
       "662              b'Good'       b'CULTIVATOR'      b'HOUSE_WIFE'  \n",
       "663                b'Vg'           b'OTHERS'  b'SCHOOL_TEACHER'  \n",
       "664              b'Good'   b'SCHOOL_TEACHER'      b'HOUSE_WIFE'  \n",
       "665              b'Good'         b'BUSINESS'          b'OTHERS'  \n",
       "\n",
       "[666 rows x 12 columns]"
      ]
     },
     "execution_count": 126,
     "metadata": {},
     "output_type": "execute_result"
    }
   ],
   "source": [
    "df"
   ]
  },
  {
   "cell_type": "code",
   "execution_count": 127,
   "id": "f58e4bed",
   "metadata": {},
   "outputs": [
    {
     "data": {
      "text/plain": [
       "b'Good'         210\n",
       "b'Vg'           198\n",
       "b'Average'      157\n",
       "b'Excellent'    101\n",
       "Name: Performance, dtype: int64"
      ]
     },
     "execution_count": 127,
     "metadata": {},
     "output_type": "execute_result"
    }
   ],
   "source": [
    "df.Performance.value_counts()"
   ]
  },
  {
   "cell_type": "code",
   "execution_count": 128,
   "id": "7be248ad",
   "metadata": {},
   "outputs": [
    {
     "data": {
      "text/plain": [
       "Performance             0\n",
       "Gender                  0\n",
       "Caste                   0\n",
       "coaching                0\n",
       "time                    0\n",
       "Class_ten_education     0\n",
       "twelve_education        0\n",
       "medium                  0\n",
       "Class_ X_Percentage     0\n",
       "Class_XII_Percentage    0\n",
       "Father_occupation       0\n",
       "Mother_occupation       0\n",
       "dtype: int64"
      ]
     },
     "execution_count": 128,
     "metadata": {},
     "output_type": "execute_result"
    }
   ],
   "source": [
    "df.isnull().sum()"
   ]
  },
  {
   "cell_type": "code",
   "execution_count": 129,
   "id": "184369a5",
   "metadata": {},
   "outputs": [],
   "source": [
    "df = df.rename({'Class_ X_Percentage': 'Class_X_Percentage'}, axis=1)"
   ]
  },
  {
   "cell_type": "code",
   "execution_count": 130,
   "id": "22f695a3",
   "metadata": {},
   "outputs": [
    {
     "data": {
      "text/html": [
       "<div>\n",
       "<style scoped>\n",
       "    .dataframe tbody tr th:only-of-type {\n",
       "        vertical-align: middle;\n",
       "    }\n",
       "\n",
       "    .dataframe tbody tr th {\n",
       "        vertical-align: top;\n",
       "    }\n",
       "\n",
       "    .dataframe thead th {\n",
       "        text-align: right;\n",
       "    }\n",
       "</style>\n",
       "<table border=\"1\" class=\"dataframe\">\n",
       "  <thead>\n",
       "    <tr style=\"text-align: right;\">\n",
       "      <th></th>\n",
       "      <th>Performance</th>\n",
       "      <th>Gender</th>\n",
       "      <th>Caste</th>\n",
       "      <th>coaching</th>\n",
       "      <th>time</th>\n",
       "      <th>Class_ten_education</th>\n",
       "      <th>twelve_education</th>\n",
       "      <th>medium</th>\n",
       "      <th>Class_X_Percentage</th>\n",
       "      <th>Class_XII_Percentage</th>\n",
       "      <th>Father_occupation</th>\n",
       "      <th>Mother_occupation</th>\n",
       "    </tr>\n",
       "  </thead>\n",
       "  <tbody>\n",
       "    <tr>\n",
       "      <th>0</th>\n",
       "      <td>1</td>\n",
       "      <td>1</td>\n",
       "      <td>0</td>\n",
       "      <td>0</td>\n",
       "      <td>2</td>\n",
       "      <td>2</td>\n",
       "      <td>0</td>\n",
       "      <td>1</td>\n",
       "      <td>1</td>\n",
       "      <td>1</td>\n",
       "      <td>4</td>\n",
       "      <td>7</td>\n",
       "    </tr>\n",
       "    <tr>\n",
       "      <th>1</th>\n",
       "      <td>1</td>\n",
       "      <td>1</td>\n",
       "      <td>1</td>\n",
       "      <td>2</td>\n",
       "      <td>5</td>\n",
       "      <td>2</td>\n",
       "      <td>0</td>\n",
       "      <td>2</td>\n",
       "      <td>1</td>\n",
       "      <td>1</td>\n",
       "      <td>7</td>\n",
       "      <td>6</td>\n",
       "    </tr>\n",
       "    <tr>\n",
       "      <th>2</th>\n",
       "      <td>1</td>\n",
       "      <td>1</td>\n",
       "      <td>1</td>\n",
       "      <td>1</td>\n",
       "      <td>5</td>\n",
       "      <td>1</td>\n",
       "      <td>1</td>\n",
       "      <td>1</td>\n",
       "      <td>1</td>\n",
       "      <td>1</td>\n",
       "      <td>1</td>\n",
       "      <td>6</td>\n",
       "    </tr>\n",
       "    <tr>\n",
       "      <th>3</th>\n",
       "      <td>1</td>\n",
       "      <td>1</td>\n",
       "      <td>0</td>\n",
       "      <td>2</td>\n",
       "      <td>2</td>\n",
       "      <td>2</td>\n",
       "      <td>0</td>\n",
       "      <td>2</td>\n",
       "      <td>1</td>\n",
       "      <td>1</td>\n",
       "      <td>7</td>\n",
       "      <td>8</td>\n",
       "    </tr>\n",
       "    <tr>\n",
       "      <th>4</th>\n",
       "      <td>1</td>\n",
       "      <td>1</td>\n",
       "      <td>0</td>\n",
       "      <td>1</td>\n",
       "      <td>5</td>\n",
       "      <td>2</td>\n",
       "      <td>1</td>\n",
       "      <td>1</td>\n",
       "      <td>1</td>\n",
       "      <td>1</td>\n",
       "      <td>2</td>\n",
       "      <td>6</td>\n",
       "    </tr>\n",
       "    <tr>\n",
       "      <th>...</th>\n",
       "      <td>...</td>\n",
       "      <td>...</td>\n",
       "      <td>...</td>\n",
       "      <td>...</td>\n",
       "      <td>...</td>\n",
       "      <td>...</td>\n",
       "      <td>...</td>\n",
       "      <td>...</td>\n",
       "      <td>...</td>\n",
       "      <td>...</td>\n",
       "      <td>...</td>\n",
       "      <td>...</td>\n",
       "    </tr>\n",
       "    <tr>\n",
       "      <th>661</th>\n",
       "      <td>0</td>\n",
       "      <td>0</td>\n",
       "      <td>3</td>\n",
       "      <td>2</td>\n",
       "      <td>2</td>\n",
       "      <td>2</td>\n",
       "      <td>0</td>\n",
       "      <td>1</td>\n",
       "      <td>2</td>\n",
       "      <td>3</td>\n",
       "      <td>6</td>\n",
       "      <td>6</td>\n",
       "    </tr>\n",
       "    <tr>\n",
       "      <th>662</th>\n",
       "      <td>0</td>\n",
       "      <td>1</td>\n",
       "      <td>3</td>\n",
       "      <td>2</td>\n",
       "      <td>4</td>\n",
       "      <td>2</td>\n",
       "      <td>0</td>\n",
       "      <td>1</td>\n",
       "      <td>3</td>\n",
       "      <td>2</td>\n",
       "      <td>3</td>\n",
       "      <td>6</td>\n",
       "    </tr>\n",
       "    <tr>\n",
       "      <th>663</th>\n",
       "      <td>0</td>\n",
       "      <td>1</td>\n",
       "      <td>3</td>\n",
       "      <td>2</td>\n",
       "      <td>5</td>\n",
       "      <td>2</td>\n",
       "      <td>1</td>\n",
       "      <td>1</td>\n",
       "      <td>2</td>\n",
       "      <td>3</td>\n",
       "      <td>6</td>\n",
       "      <td>8</td>\n",
       "    </tr>\n",
       "    <tr>\n",
       "      <th>664</th>\n",
       "      <td>0</td>\n",
       "      <td>1</td>\n",
       "      <td>3</td>\n",
       "      <td>2</td>\n",
       "      <td>4</td>\n",
       "      <td>2</td>\n",
       "      <td>0</td>\n",
       "      <td>1</td>\n",
       "      <td>2</td>\n",
       "      <td>2</td>\n",
       "      <td>7</td>\n",
       "      <td>6</td>\n",
       "    </tr>\n",
       "    <tr>\n",
       "      <th>665</th>\n",
       "      <td>0</td>\n",
       "      <td>0</td>\n",
       "      <td>3</td>\n",
       "      <td>0</td>\n",
       "      <td>2</td>\n",
       "      <td>2</td>\n",
       "      <td>1</td>\n",
       "      <td>1</td>\n",
       "      <td>3</td>\n",
       "      <td>2</td>\n",
       "      <td>1</td>\n",
       "      <td>7</td>\n",
       "    </tr>\n",
       "  </tbody>\n",
       "</table>\n",
       "<p>666 rows × 12 columns</p>\n",
       "</div>"
      ],
      "text/plain": [
       "     Performance  Gender  Caste  coaching  time  Class_ten_education  \\\n",
       "0              1       1      0         0     2                    2   \n",
       "1              1       1      1         2     5                    2   \n",
       "2              1       1      1         1     5                    1   \n",
       "3              1       1      0         2     2                    2   \n",
       "4              1       1      0         1     5                    2   \n",
       "..           ...     ...    ...       ...   ...                  ...   \n",
       "661            0       0      3         2     2                    2   \n",
       "662            0       1      3         2     4                    2   \n",
       "663            0       1      3         2     5                    2   \n",
       "664            0       1      3         2     4                    2   \n",
       "665            0       0      3         0     2                    2   \n",
       "\n",
       "     twelve_education  medium  Class_X_Percentage  Class_XII_Percentage  \\\n",
       "0                   0       1                   1                     1   \n",
       "1                   0       2                   1                     1   \n",
       "2                   1       1                   1                     1   \n",
       "3                   0       2                   1                     1   \n",
       "4                   1       1                   1                     1   \n",
       "..                ...     ...                 ...                   ...   \n",
       "661                 0       1                   2                     3   \n",
       "662                 0       1                   3                     2   \n",
       "663                 1       1                   2                     3   \n",
       "664                 0       1                   2                     2   \n",
       "665                 1       1                   3                     2   \n",
       "\n",
       "     Father_occupation  Mother_occupation  \n",
       "0                    4                  7  \n",
       "1                    7                  6  \n",
       "2                    1                  6  \n",
       "3                    7                  8  \n",
       "4                    2                  6  \n",
       "..                 ...                ...  \n",
       "661                  6                  6  \n",
       "662                  3                  6  \n",
       "663                  6                  8  \n",
       "664                  7                  6  \n",
       "665                  1                  7  \n",
       "\n",
       "[666 rows x 12 columns]"
      ]
     },
     "execution_count": 130,
     "metadata": {},
     "output_type": "execute_result"
    }
   ],
   "source": [
    "from sklearn.preprocessing import LabelEncoder\n",
    "\n",
    "\n",
    "le = LabelEncoder()\n",
    "df.Performance = le.fit_transform(df['Performance'])\n",
    "df.Gender = le.fit_transform(df['Gender'])\n",
    "df.Caste = le.fit_transform(df['Caste'])\n",
    "df.coaching = le.fit_transform(df['coaching'])\n",
    "df.time = le.fit_transform(df['time'])\n",
    "df.Class_ten_education= le.fit_transform(df['Class_ten_education'])\n",
    "df.twelve_education = le.fit_transform(df['twelve_education'])\n",
    "df.medium = le.fit_transform(df['medium'])\n",
    "df.Class_X_Percentage = le.fit_transform(df['Class_X_Percentage'])\n",
    "df.Class_XII_Percentage = le.fit_transform(df['Class_XII_Percentage'])\n",
    "df.Father_occupation = le.fit_transform(df['Father_occupation'])\n",
    "df.Mother_occupation = le.fit_transform(df['Mother_occupation'])\n",
    "#df.Gender = le.fit_transform(df['Gender'])\n",
    "\n",
    "df"
   ]
  },
  {
   "cell_type": "code",
   "execution_count": 131,
   "id": "eaa4835e",
   "metadata": {},
   "outputs": [],
   "source": [
    "y=df.Performance\n",
    "#x_train, x_test, y_train, y_test = train_test_split(x, y, testsize = 0.2, random_state = 1)\n",
    "#x_train\n",
    "x=df[['Gender','Caste','coaching','time','Class_ten_education','twelve_education','medium','Class_X_Percentage','Class_XII_Percentage','Father_occupation','Mother_occupation']]\n",
    "x_train, x_test, y_train, y_test = train_test_split(x, y, test_size = 0.2, random_state = 1)\n"
   ]
  },
  {
   "cell_type": "code",
   "execution_count": 132,
   "id": "fad2ea5b",
   "metadata": {},
   "outputs": [],
   "source": [
    "Fold1_x, f2_x, Fold1_y, f2_y = train_test_split(x_train, y_train, test_size = 0.8, random_state = 1)\n"
   ]
  },
  {
   "cell_type": "code",
   "execution_count": 133,
   "id": "24b628ad",
   "metadata": {},
   "outputs": [],
   "source": [
    "Fold2_x, f3_x, Fold2_y, f3_y = train_test_split(f2_x, f2_y, test_size = 0.75, random_state = 1)\n"
   ]
  },
  {
   "cell_type": "code",
   "execution_count": 134,
   "id": "82956328",
   "metadata": {},
   "outputs": [],
   "source": [
    "Fold3_x, f4_x, Fold3_y, f4_y = train_test_split(f3_x, f3_y, test_size = 2/3, random_state = 1)"
   ]
  },
  {
   "cell_type": "code",
   "execution_count": 89,
   "id": "1937fae6",
   "metadata": {},
   "outputs": [],
   "source": [
    "Fold4_x, Fold5_x, Fold4_y, Fold5_y = train_test_split(f4_x, f4_y, test_size = 0.5, random_state = 1)"
   ]
  },
  {
   "cell_type": "code",
   "execution_count": 232,
   "id": "b81b3082",
   "metadata": {},
   "outputs": [
    {
     "data": {
      "text/plain": [
       "0.38317757009345793"
      ]
     },
     "execution_count": 232,
     "metadata": {},
     "output_type": "execute_result"
    }
   ],
   "source": [
    "# importing necessary libraries\n",
    "from sklearn import datasets\n",
    "from sklearn.metrics import confusion_matrix\n",
    "from sklearn.model_selection import train_test_split\n",
    "  \n",
    "\n",
    "#max_depth = 2 \n",
    "from sklearn.tree import DecisionTreeClassifier\n",
    "dtree_model = DecisionTreeClassifier().fit(Fold1_x, Fold1_y)\n",
    "dtree_predictions = dtree_model.predict(Fold5_x)\n",
    "\n",
    "accuracy = dtree_model.score(Fold5_x, Fold5_y)\n",
    "accuracy\n",
    "\n"
   ]
  },
  {
   "cell_type": "code",
   "execution_count": 233,
   "id": "b05fbf98",
   "metadata": {},
   "outputs": [
    {
     "data": {
      "text/plain": [
       "array([[22,  0,  5,  7],\n",
       "       [ 0,  4,  7,  9],\n",
       "       [ 2,  4,  9,  5],\n",
       "       [ 1,  8, 18,  6]], dtype=int64)"
      ]
     },
     "execution_count": 233,
     "metadata": {},
     "output_type": "execute_result"
    }
   ],
   "source": [
    "# creating a confusion matrix\n",
    "cm1 = confusion_matrix(Fold5_y, dtree_predictions)\n",
    "cm1"
   ]
  },
  {
   "cell_type": "code",
   "execution_count": 234,
   "id": "58cd42c3",
   "metadata": {},
   "outputs": [
    {
     "name": "stdout",
     "output_type": "stream",
     "text": [
      "0.43283582089552236\n"
     ]
    },
    {
     "data": {
      "text/plain": [
       "array([[23,  2,  2,  4],\n",
       "       [ 0,  4,  5, 11],\n",
       "       [ 8, 10, 22, 12],\n",
       "       [ 3,  6, 13,  9]], dtype=int64)"
      ]
     },
     "execution_count": 234,
     "metadata": {},
     "output_type": "execute_result"
    }
   ],
   "source": [
    "dtree_predictions = dtree_model.predict(x_test)\n",
    "\n",
    "accuracy = dtree_model.score(x_test, y_test)\n",
    "print(accuracy)\n",
    "cm1unseen = confusion_matrix(y_test, dtree_predictions)\n",
    "cm1unseen"
   ]
  },
  {
   "cell_type": "code",
   "execution_count": 235,
   "id": "a8b7cdb4",
   "metadata": {},
   "outputs": [
    {
     "data": {
      "text/plain": [
       "0.5327102803738317"
      ]
     },
     "execution_count": 235,
     "metadata": {},
     "output_type": "execute_result"
    }
   ],
   "source": [
    "from sklearn.tree import DecisionTreeClassifier\n",
    "dtree_model = DecisionTreeClassifier().fit(Fold2_x, Fold2_y)\n",
    "dtree_predictions = dtree_model.predict(Fold5_x)\n",
    "\n",
    "\n",
    "accuracy = dtree_model.score(Fold5_x, Fold5_y)\n",
    "accuracy\n",
    "\n"
   ]
  },
  {
   "cell_type": "code",
   "execution_count": 236,
   "id": "8a09e6ba",
   "metadata": {},
   "outputs": [
    {
     "data": {
      "text/plain": [
       "array([[26,  1,  6,  1],\n",
       "       [ 1,  7,  6,  6],\n",
       "       [ 4,  2,  9,  5],\n",
       "       [ 2,  8,  8, 15]], dtype=int64)"
      ]
     },
     "execution_count": 236,
     "metadata": {},
     "output_type": "execute_result"
    }
   ],
   "source": [
    "# creating a confusion matrix\n",
    "cm2 = confusion_matrix(Fold5_y, dtree_predictions)\n",
    "cm2"
   ]
  },
  {
   "cell_type": "code",
   "execution_count": 237,
   "id": "42717c13",
   "metadata": {},
   "outputs": [
    {
     "name": "stdout",
     "output_type": "stream",
     "text": [
      "0.4253731343283582\n"
     ]
    },
    {
     "data": {
      "text/plain": [
       "array([[22,  0,  5,  4],\n",
       "       [ 1,  6,  5,  8],\n",
       "       [11,  5, 17, 19],\n",
       "       [ 6,  6,  7, 12]], dtype=int64)"
      ]
     },
     "execution_count": 237,
     "metadata": {},
     "output_type": "execute_result"
    }
   ],
   "source": [
    "dtree_predictions = dtree_model.predict(x_test)\n",
    "\n",
    "accuracy = dtree_model.score(x_test, y_test)\n",
    "print(accuracy)\n",
    "cm2unseen = confusion_matrix(y_test, dtree_predictions)\n",
    "cm2unseen"
   ]
  },
  {
   "cell_type": "code",
   "execution_count": 238,
   "id": "c061c4c4",
   "metadata": {},
   "outputs": [
    {
     "data": {
      "text/plain": [
       "0.4485981308411215"
      ]
     },
     "execution_count": 238,
     "metadata": {},
     "output_type": "execute_result"
    }
   ],
   "source": [
    "dtree_model = DecisionTreeClassifier().fit(Fold3_x, Fold3_y)\n",
    "dtree_predictions = dtree_model.predict(Fold5_x)\n",
    "\n",
    "accuracy = dtree_model.score(Fold5_x, Fold5_y)\n",
    "accuracy  \n"
   ]
  },
  {
   "cell_type": "code",
   "execution_count": 239,
   "id": "5711541d",
   "metadata": {},
   "outputs": [
    {
     "data": {
      "text/plain": [
       "array([[22,  2, 10,  0],\n",
       "       [ 0,  7,  7,  6],\n",
       "       [ 5,  2,  7,  6],\n",
       "       [ 1,  3, 17, 12]], dtype=int64)"
      ]
     },
     "execution_count": 239,
     "metadata": {},
     "output_type": "execute_result"
    }
   ],
   "source": [
    "# creating a confusion matrix\n",
    "cm3 = confusion_matrix(Fold5_y, dtree_predictions)\n",
    "cm3"
   ]
  },
  {
   "cell_type": "code",
   "execution_count": 240,
   "id": "6fc3a023",
   "metadata": {},
   "outputs": [
    {
     "name": "stdout",
     "output_type": "stream",
     "text": [
      "0.5223880597014925\n"
     ]
    },
    {
     "data": {
      "text/plain": [
       "array([[20,  0,  9,  2],\n",
       "       [ 0,  4,  9,  7],\n",
       "       [ 9,  0, 30, 13],\n",
       "       [ 2,  3, 10, 16]], dtype=int64)"
      ]
     },
     "execution_count": 240,
     "metadata": {},
     "output_type": "execute_result"
    }
   ],
   "source": [
    "dtree_predictions = dtree_model.predict(x_test)\n",
    "\n",
    "accuracy = dtree_model.score(x_test, y_test)\n",
    "print(accuracy)\n",
    "cm3unseen = confusion_matrix(y_test, dtree_predictions)\n",
    "cm3unseen"
   ]
  },
  {
   "cell_type": "code",
   "execution_count": 241,
   "id": "4ea27979",
   "metadata": {},
   "outputs": [
    {
     "data": {
      "text/plain": [
       "0.4485981308411215"
      ]
     },
     "execution_count": 241,
     "metadata": {},
     "output_type": "execute_result"
    }
   ],
   "source": [
    "dtree_model = DecisionTreeClassifier().fit(Fold4_x, Fold4_y)\n",
    "dtree_predictions = dtree_model.predict(Fold5_x)\n",
    "  \n",
    "accuracy = dtree_model.score(Fold5_x, Fold5_y)\n",
    "accuracy"
   ]
  },
  {
   "cell_type": "code",
   "execution_count": 242,
   "id": "99f64307",
   "metadata": {},
   "outputs": [
    {
     "data": {
      "text/plain": [
       "array([[25,  0,  8,  1],\n",
       "       [ 3,  5,  7,  5],\n",
       "       [ 2,  1,  7, 10],\n",
       "       [ 5,  4, 13, 11]], dtype=int64)"
      ]
     },
     "execution_count": 242,
     "metadata": {},
     "output_type": "execute_result"
    }
   ],
   "source": [
    "# creating a confusion matrix\n",
    "cm4 = confusion_matrix(Fold5_y, dtree_predictions)\n",
    "cm4"
   ]
  },
  {
   "cell_type": "code",
   "execution_count": 243,
   "id": "7fa961f0",
   "metadata": {},
   "outputs": [
    {
     "name": "stdout",
     "output_type": "stream",
     "text": [
      "0.3880597014925373\n"
     ]
    },
    {
     "data": {
      "text/plain": [
       "array([[25,  0,  3,  3],\n",
       "       [ 1,  2, 12,  5],\n",
       "       [17,  2, 17, 16],\n",
       "       [ 2,  6, 15,  8]], dtype=int64)"
      ]
     },
     "execution_count": 243,
     "metadata": {},
     "output_type": "execute_result"
    }
   ],
   "source": [
    "dtree_predictions = dtree_model.predict(x_test)\n",
    "\n",
    "accuracy = dtree_model.score(x_test, y_test)\n",
    "print(accuracy)\n",
    "cm4unseen = confusion_matrix(y_test, dtree_predictions)\n",
    "cm4unseen"
   ]
  },
  {
   "cell_type": "code",
   "execution_count": 244,
   "id": "98d9bbd0",
   "metadata": {},
   "outputs": [
    {
     "data": {
      "text/plain": [
       "0.9345794392523364"
      ]
     },
     "execution_count": 244,
     "metadata": {},
     "output_type": "execute_result"
    }
   ],
   "source": [
    "dtree_model = DecisionTreeClassifier().fit(x_train,y_train)\n",
    "dtree_predictions = dtree_model.predict(Fold5_x)\n",
    "  \n",
    "\n",
    "accuracy = dtree_model.score(Fold5_x, Fold5_y)\n",
    "accuracy"
   ]
  },
  {
   "cell_type": "code",
   "execution_count": 245,
   "id": "06d6e33d",
   "metadata": {},
   "outputs": [
    {
     "data": {
      "text/plain": [
       "array([[34,  0,  0,  0],\n",
       "       [ 0, 19,  0,  1],\n",
       "       [ 2,  1, 17,  0],\n",
       "       [ 0,  2,  1, 30]], dtype=int64)"
      ]
     },
     "execution_count": 245,
     "metadata": {},
     "output_type": "execute_result"
    }
   ],
   "source": [
    "# creating a confusion matrix\n",
    "cm = confusion_matrix(Fold5_y, dtree_predictions)\n",
    "cm"
   ]
  },
  {
   "cell_type": "code",
   "execution_count": 246,
   "id": "124dd49a",
   "metadata": {},
   "outputs": [
    {
     "name": "stdout",
     "output_type": "stream",
     "text": [
      "0.4626865671641791\n"
     ]
    },
    {
     "data": {
      "text/plain": [
       "array([[25,  0,  4,  2],\n",
       "       [ 0,  4,  9,  7],\n",
       "       [12,  8, 20, 12],\n",
       "       [ 6,  2, 10, 13]], dtype=int64)"
      ]
     },
     "execution_count": 246,
     "metadata": {},
     "output_type": "execute_result"
    }
   ],
   "source": [
    "dtree_predictions = dtree_model.predict(x_test)\n",
    "\n",
    "accuracy = dtree_model.score(x_test, y_test)\n",
    "print(accuracy)\n",
    "cmunseen = confusion_matrix(y_test, dtree_predictions)\n",
    "cmunseen"
   ]
  },
  {
   "cell_type": "code",
   "execution_count": 180,
   "id": "458c1f3f",
   "metadata": {},
   "outputs": [
    {
     "data": {
      "text/plain": [
       "0.4953271028037383"
      ]
     },
     "execution_count": 180,
     "metadata": {},
     "output_type": "execute_result"
    }
   ],
   "source": [
    "##SVM    ********************************************************************************************\n",
    "#*******************************************************************************************************\n",
    "#********************************************************************************************************\n",
    "\n",
    "from sklearn.svm import SVC\n",
    "svm_model_linear = SVC(kernel = 'linear', C = 1).fit(Fold1_x, Fold1_y)\n",
    "svm_predictions = svm_model_linear.predict(Fold5_x)\n",
    "  \n",
    "# model accuracy for X_test  \n",
    "accuracy = svm_model_linear.score(Fold5_x, Fold5_y)\n",
    "accuracy  \n"
   ]
  },
  {
   "cell_type": "code",
   "execution_count": 181,
   "id": "2721686c",
   "metadata": {
    "scrolled": true
   },
   "outputs": [
    {
     "data": {
      "text/plain": [
       "array([[28,  1,  5,  0],\n",
       "       [ 2,  2, 11,  5],\n",
       "       [ 3,  2, 12,  3],\n",
       "       [ 3,  1, 18, 11]], dtype=int64)"
      ]
     },
     "execution_count": 181,
     "metadata": {},
     "output_type": "execute_result"
    }
   ],
   "source": [
    "# creating a confusion matrix\n",
    "cm1 = confusion_matrix(Fold5_y, svm_predictions)\n",
    "cm1"
   ]
  },
  {
   "cell_type": "code",
   "execution_count": 182,
   "id": "8b37275e",
   "metadata": {},
   "outputs": [
    {
     "data": {
      "text/plain": [
       "0.514018691588785"
      ]
     },
     "execution_count": 182,
     "metadata": {},
     "output_type": "execute_result"
    }
   ],
   "source": [
    "from sklearn.svm import SVC\n",
    "svm_model_linear = SVC(kernel = 'linear', C = 1).fit(Fold2_x, Fold2_y)\n",
    "svm_predictions = svm_model_linear.predict(Fold5_x)\n",
    "  \n",
    "# model accuracy for X_test  \n",
    "accuracy = svm_model_linear.score(Fold5_x, Fold5_y)\n",
    "accuracy  "
   ]
  },
  {
   "cell_type": "code",
   "execution_count": 183,
   "id": "8de0f11e",
   "metadata": {},
   "outputs": [
    {
     "data": {
      "text/plain": [
       "array([[25,  0,  8,  1],\n",
       "       [ 1,  3,  6, 10],\n",
       "       [ 5,  1,  8,  6],\n",
       "       [ 1,  6,  7, 19]], dtype=int64)"
      ]
     },
     "execution_count": 183,
     "metadata": {},
     "output_type": "execute_result"
    }
   ],
   "source": [
    "# creating a confusion matrix\n",
    "cm2 = confusion_matrix(Fold5_y, svm_predictions)\n",
    "cm2"
   ]
  },
  {
   "cell_type": "code",
   "execution_count": 184,
   "id": "d8b44cbe",
   "metadata": {},
   "outputs": [
    {
     "data": {
      "text/plain": [
       "0.5327102803738317"
      ]
     },
     "execution_count": 184,
     "metadata": {},
     "output_type": "execute_result"
    }
   ],
   "source": [
    "from sklearn.svm import SVC\n",
    "svm_model_linear = SVC(kernel = 'linear', C = 1).fit(Fold3_x, Fold3_y)\n",
    "svm_predictions = svm_model_linear.predict(Fold5_x)\n",
    "  \n",
    "# model accuracy for X_test  \n",
    "accuracy = svm_model_linear.score(Fold5_x, Fold5_y)\n",
    "accuracy  "
   ]
  },
  {
   "cell_type": "code",
   "execution_count": 185,
   "id": "fa86cd32",
   "metadata": {},
   "outputs": [
    {
     "data": {
      "text/plain": [
       "array([[28,  2,  3,  1],\n",
       "       [ 0,  4,  5, 11],\n",
       "       [ 2,  1, 11,  6],\n",
       "       [ 1,  7, 11, 14]], dtype=int64)"
      ]
     },
     "execution_count": 185,
     "metadata": {},
     "output_type": "execute_result"
    }
   ],
   "source": [
    "# creating a confusion matrix\n",
    "cm3 = confusion_matrix(Fold5_y, svm_predictions)\n",
    "cm3"
   ]
  },
  {
   "cell_type": "code",
   "execution_count": 186,
   "id": "d0d98225",
   "metadata": {},
   "outputs": [
    {
     "data": {
      "text/plain": [
       "0.5327102803738317"
      ]
     },
     "execution_count": 186,
     "metadata": {},
     "output_type": "execute_result"
    }
   ],
   "source": [
    "from sklearn.svm import SVC\n",
    "svm_model_linear = SVC(kernel = 'linear', C = 1).fit(Fold3_x, Fold3_y)\n",
    "svm_predictions = svm_model_linear.predict(Fold5_x)\n",
    "  \n",
    "# model accuracy for X_test  \n",
    "accuracy = svm_model_linear.score(Fold5_x, Fold5_y)\n",
    "accuracy  "
   ]
  },
  {
   "cell_type": "code",
   "execution_count": 187,
   "id": "9776859b",
   "metadata": {},
   "outputs": [
    {
     "data": {
      "text/plain": [
       "array([[28,  2,  3,  1],\n",
       "       [ 0,  4,  5, 11],\n",
       "       [ 2,  1, 11,  6],\n",
       "       [ 1,  7, 11, 14]], dtype=int64)"
      ]
     },
     "execution_count": 187,
     "metadata": {},
     "output_type": "execute_result"
    }
   ],
   "source": [
    "# creating a confusion matrix\n",
    "cm3 = confusion_matrix(Fold5_y, svm_predictions)\n",
    "cm3"
   ]
  },
  {
   "cell_type": "code",
   "execution_count": 188,
   "id": "5da22c32",
   "metadata": {},
   "outputs": [
    {
     "data": {
      "text/plain": [
       "0.616822429906542"
      ]
     },
     "execution_count": 188,
     "metadata": {},
     "output_type": "execute_result"
    }
   ],
   "source": [
    "from sklearn.svm import SVC\n",
    "svm_model_linear = SVC(kernel = 'linear', C = 1).fit(Fold4_x, Fold4_y)\n",
    "svm_predictions = svm_model_linear.predict(Fold5_x)\n",
    "  \n",
    "# model accuracy for X_test  \n",
    "accuracy = svm_model_linear.score(Fold5_x, Fold5_y)\n",
    "accuracy"
   ]
  },
  {
   "cell_type": "code",
   "execution_count": 189,
   "id": "1fa2c01f",
   "metadata": {},
   "outputs": [
    {
     "data": {
      "text/plain": [
       "array([[31,  0,  2,  1],\n",
       "       [ 1,  5,  4, 10],\n",
       "       [ 5,  2,  8,  5],\n",
       "       [ 3,  1,  7, 22]], dtype=int64)"
      ]
     },
     "execution_count": 189,
     "metadata": {},
     "output_type": "execute_result"
    }
   ],
   "source": [
    "# creating a confusion matrix\n",
    "cm4 = confusion_matrix(Fold5_y, svm_predictions)\n",
    "cm4"
   ]
  },
  {
   "cell_type": "code",
   "execution_count": 190,
   "id": "b686feb4",
   "metadata": {},
   "outputs": [
    {
     "data": {
      "text/plain": [
       "0.6074766355140186"
      ]
     },
     "execution_count": 190,
     "metadata": {},
     "output_type": "execute_result"
    }
   ],
   "source": [
    "from sklearn.svm import SVC\n",
    "svm_model_linear = SVC(kernel = 'linear', C = 1).fit(x_train,y_train)\n",
    "svm_predictions = svm_model_linear.predict(Fold5_x)\n",
    "  \n",
    "# model accuracy for X_test  \n",
    "accuracy = svm_model_linear.score(Fold5_x, Fold5_y)\n",
    "accuracy"
   ]
  },
  {
   "cell_type": "code",
   "execution_count": 191,
   "id": "6772b21a",
   "metadata": {},
   "outputs": [
    {
     "data": {
      "text/plain": [
       "array([[31,  0,  2,  1],\n",
       "       [ 1,  2,  5, 12],\n",
       "       [ 4,  1, 11,  4],\n",
       "       [ 3,  1,  8, 21]], dtype=int64)"
      ]
     },
     "execution_count": 191,
     "metadata": {},
     "output_type": "execute_result"
    }
   ],
   "source": [
    "# creating a confusion matrix\n",
    "cm = confusion_matrix(Fold5_y, svm_predictions)\n",
    "cm"
   ]
  },
  {
   "cell_type": "code",
   "execution_count": 192,
   "id": "7074e867",
   "metadata": {},
   "outputs": [
    {
     "name": "stdout",
     "output_type": "stream",
     "text": [
      "0.3364485981308411\n"
     ]
    },
    {
     "data": {
      "text/plain": [
       "array([[24,  0, 10,  0],\n",
       "       [ 0,  5, 10,  5],\n",
       "       [ 6,  4,  6,  4],\n",
       "       [ 5,  3, 24,  1]], dtype=int64)"
      ]
     },
     "execution_count": 192,
     "metadata": {},
     "output_type": "execute_result"
    }
   ],
   "source": [
    "# training a KNN classifier**************************************************************************\n",
    "#****************************************************************************************************\n",
    "#****************************************************************************************************\n",
    "#***************************************************************************************************\n",
    "\n",
    "from sklearn.neighbors import KNeighborsClassifier\n",
    "knn = KNeighborsClassifier(n_neighbors = 7).fit(Fold1_x,Fold1_y)\n",
    "  \n",
    "# accuracy on X_test\n",
    "accuracy = knn.score(Fold5_x, Fold5_y)\n",
    "print (accuracy)\n",
    "  \n",
    "# creating a confusion matrix\n",
    "knn_predictions = knn.predict(Fold5_x) \n",
    "cm1 = confusion_matrix(Fold5_y, knn_predictions)\n",
    "cm1\n",
    "\n",
    "\n",
    "\n"
   ]
  },
  {
   "cell_type": "code",
   "execution_count": 193,
   "id": "6eac270c",
   "metadata": {},
   "outputs": [
    {
     "name": "stdout",
     "output_type": "stream",
     "text": [
      "0.411214953271028\n"
     ]
    },
    {
     "data": {
      "text/plain": [
       "array([[18,  1,  5, 10],\n",
       "       [ 1,  5,  4, 10],\n",
       "       [ 5,  2,  6,  7],\n",
       "       [ 3,  9,  6, 15]], dtype=int64)"
      ]
     },
     "execution_count": 193,
     "metadata": {},
     "output_type": "execute_result"
    }
   ],
   "source": [
    "\n",
    "from sklearn.neighbors import KNeighborsClassifier\n",
    "knn = KNeighborsClassifier(n_neighbors = 7).fit(Fold2_x,Fold2_y)\n",
    "  \n",
    "# accuracy on X_test\n",
    "accuracy = knn.score(Fold5_x, Fold5_y)\n",
    "print (accuracy)\n",
    "  \n",
    "# creating a confusion matrix\n",
    "knn_predictions = knn.predict(Fold5_x) \n",
    "cm2 = confusion_matrix(Fold5_y, knn_predictions)\n",
    "cm2"
   ]
  },
  {
   "cell_type": "code",
   "execution_count": 194,
   "id": "354376c1",
   "metadata": {},
   "outputs": [
    {
     "name": "stdout",
     "output_type": "stream",
     "text": [
      "0.4205607476635514\n"
     ]
    },
    {
     "data": {
      "text/plain": [
       "array([[21,  1,  8,  4],\n",
       "       [ 1,  5,  5,  9],\n",
       "       [ 2,  1,  8,  9],\n",
       "       [ 3,  9, 10, 11]], dtype=int64)"
      ]
     },
     "execution_count": 194,
     "metadata": {},
     "output_type": "execute_result"
    }
   ],
   "source": [
    "\n",
    "from sklearn.neighbors import KNeighborsClassifier\n",
    "knn = KNeighborsClassifier(n_neighbors = 7).fit(Fold3_x,Fold3_y)\n",
    "  \n",
    "# accuracy on X_test\n",
    "accuracy = knn.score(Fold5_x, Fold5_y)\n",
    "print (accuracy)\n",
    "  \n",
    "# creating a confusion matrix\n",
    "knn_predictions = knn.predict(Fold5_x) \n",
    "cm3= confusion_matrix(Fold5_y, knn_predictions)\n",
    "cm3"
   ]
  },
  {
   "cell_type": "code",
   "execution_count": 195,
   "id": "1c014b2f",
   "metadata": {},
   "outputs": [
    {
     "name": "stdout",
     "output_type": "stream",
     "text": [
      "0.5233644859813084\n"
     ]
    },
    {
     "data": {
      "text/plain": [
       "array([[29,  1,  1,  3],\n",
       "       [ 0,  4,  6, 10],\n",
       "       [ 1,  1,  8, 10],\n",
       "       [ 3,  4, 11, 15]], dtype=int64)"
      ]
     },
     "execution_count": 195,
     "metadata": {},
     "output_type": "execute_result"
    }
   ],
   "source": [
    "\n",
    "from sklearn.neighbors import KNeighborsClassifier\n",
    "knn = KNeighborsClassifier(n_neighbors = 7).fit(Fold4_x,Fold4_y)\n",
    "  \n",
    "# accuracy on X_test\n",
    "accuracy = knn.score(Fold5_x, Fold5_y)\n",
    "print (accuracy)\n",
    "  \n",
    "# creating a confusion matrix\n",
    "knn_predictions = knn.predict(Fold5_x) \n",
    "cm4 = confusion_matrix(Fold5_y, knn_predictions)\n",
    "cm4"
   ]
  },
  {
   "cell_type": "code",
   "execution_count": 196,
   "id": "53adab9b",
   "metadata": {},
   "outputs": [
    {
     "name": "stdout",
     "output_type": "stream",
     "text": [
      "0.5074626865671642\n"
     ]
    },
    {
     "data": {
      "text/plain": [
       "array([[28,  2,  1,  3],\n",
       "       [ 1,  9,  6,  4],\n",
       "       [ 3,  1, 12,  4],\n",
       "       [ 1,  5,  9, 18]], dtype=int64)"
      ]
     },
     "execution_count": 196,
     "metadata": {},
     "output_type": "execute_result"
    }
   ],
   "source": [
    "from sklearn.neighbors import KNeighborsClassifier\n",
    "knn = KNeighborsClassifier(n_neighbors = 7).fit(x_train, y_train)\n",
    "  \n",
    "# accuracy on X_test\n",
    "accuracy = knn.score(x_test, y_test)\n",
    "print (accuracy)\n",
    "  \n",
    "# creating a confusion matrix\n",
    "knn_predictions = knn.predict(Fold5_x) \n",
    "cm = confusion_matrix(Fold5_y, knn_predictions)\n",
    "cm"
   ]
  },
  {
   "cell_type": "code",
   "execution_count": null,
   "id": "d4033fa8",
   "metadata": {},
   "outputs": [],
   "source": []
  },
  {
   "cell_type": "code",
   "execution_count": null,
   "id": "1832e424",
   "metadata": {},
   "outputs": [],
   "source": []
  },
  {
   "cell_type": "code",
   "execution_count": null,
   "id": "303375ea",
   "metadata": {},
   "outputs": [],
   "source": []
  },
  {
   "cell_type": "code",
   "execution_count": null,
   "id": "9ff83cfa",
   "metadata": {},
   "outputs": [],
   "source": []
  },
  {
   "cell_type": "code",
   "execution_count": null,
   "id": "8177a1c4",
   "metadata": {},
   "outputs": [],
   "source": []
  },
  {
   "cell_type": "code",
   "execution_count": null,
   "id": "4cc251b9",
   "metadata": {},
   "outputs": [],
   "source": []
  },
  {
   "cell_type": "code",
   "execution_count": null,
   "id": "8ae91e5e",
   "metadata": {},
   "outputs": [],
   "source": []
  },
  {
   "cell_type": "code",
   "execution_count": null,
   "id": "39e2f26a",
   "metadata": {},
   "outputs": [],
   "source": []
  },
  {
   "cell_type": "code",
   "execution_count": null,
   "id": "7359222a",
   "metadata": {},
   "outputs": [],
   "source": []
  },
  {
   "cell_type": "code",
   "execution_count": null,
   "id": "6482e89e",
   "metadata": {},
   "outputs": [],
   "source": []
  },
  {
   "cell_type": "code",
   "execution_count": null,
   "id": "5a35c2cb",
   "metadata": {},
   "outputs": [],
   "source": []
  },
  {
   "cell_type": "code",
   "execution_count": null,
   "id": "2e1f1c93",
   "metadata": {},
   "outputs": [],
   "source": []
  },
  {
   "cell_type": "code",
   "execution_count": null,
   "id": "d5ac01b5",
   "metadata": {},
   "outputs": [],
   "source": []
  }
 ],
 "metadata": {
  "kernelspec": {
   "display_name": "Python 3",
   "language": "python",
   "name": "python3"
  },
  "language_info": {
   "codemirror_mode": {
    "name": "ipython",
    "version": 3
   },
   "file_extension": ".py",
   "mimetype": "text/x-python",
   "name": "python",
   "nbconvert_exporter": "python",
   "pygments_lexer": "ipython3",
   "version": "3.8.8"
  }
 },
 "nbformat": 4,
 "nbformat_minor": 5
}
